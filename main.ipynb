{
 "cells": [
  {
   "cell_type": "markdown",
   "metadata": {},
   "source": [
    "### The main notebook for modelling the system\n",
    "\n",
    "Writing a code to integrate the following system. This models the generation of vegetative stripes and the respective diffusion uphill. The variable $u$ denotes the plant biomass, a function of time and space. The variable $w$ denotes the level of surface water. The constant $a$ is the level of rainfall, $w$ the evaporation. \n",
    "\n",
    "This is the Klausmeier model: \n",
    "\n",
    "$$\\frac{\\partial u}{\\partial t} = wu^2 - bu+ \\frac{\\partial^2 u }{\\partial x^2}$$\n",
    "\n",
    "$$\n",
    "\\frac{\\partial w}{\\partial t} = a - w - wu^2 + \\nu \\frac{\\partial w}{\\partial x}\n",
    "$$\n",
    "\n",
    "Note that by analysis we must have the $a \\geq 2b$. The level of rainfall is greater of equal to the rate of plant death multiplied by 2. \n",
    "\n",
    "Want to write a function that takes initial conditions, domain size and total time and outputs the vegetation data over time and space. "
   ]
  },
  {
   "cell_type": "markdown",
   "metadata": {},
   "source": [
    "Start off with solving:\n",
    "\n",
    "$$\n",
    "\\frac{\\partial u}{\\partial t} = \\frac{\\delta^2 u}{\\delta x^2}\n",
    "$$\n",
    "$$\n",
    "\\frac{\\partial w}{\\partial t} = \\nu \\frac{\\partial w}{\\partial x}\n",
    "$$"
   ]
  },
  {
   "cell_type": "markdown",
   "metadata": {},
   "source": []
  },
  {
   "cell_type": "code",
   "execution_count": 54,
   "metadata": {},
   "outputs": [],
   "source": [
    "import numpy as np \n",
    "import scipy \n",
    "from  scipy.integrate import solve_ivp\n",
    "#SOlve IVP for scipy, scipy.integrate? "
   ]
  },
  {
   "cell_type": "code",
   "execution_count": 58,
   "metadata": {},
   "outputs": [
    {
     "name": "stdout",
     "output_type": "stream",
     "text": [
      "[1.38879439e-11 9.85950558e-11 6.46143177e-10 3.90893843e-09\n",
      " 2.18295780e-08 1.12535175e-07 5.35534780e-07 2.35257520e-06\n",
      " 9.54016287e-06 3.57128496e-05 1.23409804e-04 3.93669041e-04\n",
      " 1.15922917e-03 3.15111160e-03 7.90705405e-03 1.83156389e-02\n",
      " 3.91638951e-02 7.73047404e-02 1.40858421e-01 2.36927759e-01\n",
      " 3.67879441e-01 5.27292424e-01 6.97676326e-01 8.52143789e-01\n",
      " 9.60789439e-01 1.00000000e+00 9.60789439e-01 8.52143789e-01\n",
      " 6.97676326e-01 5.27292424e-01 3.67879441e-01 2.36927759e-01\n",
      " 1.40858421e-01 7.73047404e-02 3.91638951e-02 1.83156389e-02\n",
      " 7.90705405e-03 3.15111160e-03 1.15922917e-03 3.93669041e-04\n",
      " 1.23409804e-04 3.57128496e-05 9.54016287e-06 2.35257520e-06\n",
      " 5.35534780e-07 1.12535175e-07 2.18295780e-08 3.90893843e-09\n",
      " 6.46143177e-10 9.85950558e-11 1.38879439e-11]\n",
      "51\n"
     ]
    }
   ],
   "source": [
    "n = 51\n",
    "x = np.linspace(0,1,n)\n",
    "#Make u a gaussian\n",
    "u = np.exp(-100*(x-0.5)**2)\n",
    "print(u)\n",
    "print(len(u))\n",
    "\n",
    "\n",
    "nu = 4\n",
    "dx = 1\n",
    "\n",
    "DU = np.zeros((n,n))\n",
    "DW = np.zeros((n,n))\n",
    "\n",
    "np.fill_diagonal(DU,-2*1**-2)\n",
    "np.fill_diagonal(DU[1:], 1**-2)\n",
    "np.fill_diagonal(DU[:, 1:], 1**-2)\n",
    "DU[0,-1] = 1**-2\n",
    "DU[-1,0] = 1**-2\n",
    "DU = DU*(dx**-2)\n",
    "np.fill_diagonal(DW,-1)\n",
    "np.fill_diagonal(DW[:,1:],1)\n",
    "DW[0,-1] = 1\n",
    "DW[-1,0] = 1\n",
    "DW = DW*nu*(dx**-1)\n",
    "\n"
   ]
  },
  {
   "cell_type": "code",
   "execution_count": 62,
   "metadata": {},
   "outputs": [],
   "source": [
    "def spatial_differential(t, u):\n",
    "    # Here, you perform the matrix multiplication (u @ DU) * v\n",
    "    \n",
    "    du_dt = DU@np.transpose(u) # Matrix multiplication and product with v\n",
    "\n",
    "    return np.transpose(du_dt).flatten()"
   ]
  },
  {
   "cell_type": "code",
   "execution_count": 63,
   "metadata": {},
   "outputs": [
    {
     "name": "stdout",
     "output_type": "stream",
     "text": [
      "[1.38879439e-11 9.85950558e-11 6.46143177e-10 3.90893843e-09\n",
      " 2.18295780e-08 1.12535175e-07 5.35534780e-07 2.35257520e-06\n",
      " 9.54016287e-06 3.57128496e-05 1.23409804e-04 3.93669041e-04\n",
      " 1.15922917e-03 3.15111160e-03 7.90705405e-03 1.83156389e-02\n",
      " 3.91638951e-02 7.73047404e-02 1.40858421e-01 2.36927759e-01\n",
      " 3.67879441e-01 5.27292424e-01 6.97676326e-01 8.52143789e-01\n",
      " 9.60789439e-01 1.00000000e+00 9.60789439e-01 8.52143789e-01\n",
      " 6.97676326e-01 5.27292424e-01 3.67879441e-01 2.36927759e-01\n",
      " 1.40858421e-01 7.73047404e-02 3.91638951e-02 1.83156389e-02\n",
      " 7.90705405e-03 3.15111160e-03 1.15922917e-03 3.93669041e-04\n",
      " 1.23409804e-04 3.57128496e-05 9.54016287e-06 2.35257520e-06\n",
      " 5.35534780e-07 1.12535175e-07 2.18295780e-08 3.90893843e-09\n",
      " 6.46143177e-10 9.85950558e-11 1.38879439e-11]\n",
      "[ 8.47071119e-11  4.62841010e-10  2.71524714e-09  1.46578443e-08\n",
      "  7.27849573e-08  3.32294009e-07  1.39404081e-06  5.37054725e-06\n",
      "  1.89850991e-05  6.15242677e-05  1.82562282e-04  4.95300897e-04\n",
      "  1.22632229e-03  2.76406003e-03  5.65264238e-03  1.04396714e-02\n",
      "  1.72925891e-02  2.54128351e-02  3.25156573e-02  3.48823447e-02\n",
      "  2.84613004e-02  1.09709192e-02 -1.59164391e-02 -4.58218127e-02\n",
      " -6.94350893e-02 -7.84211217e-02 -6.94350893e-02 -4.58218127e-02\n",
      " -1.59164391e-02  1.09709192e-02  2.84613004e-02  3.48823447e-02\n",
      "  3.25156573e-02  2.54128351e-02  1.72925891e-02  1.04396714e-02\n",
      "  5.65264238e-03  2.76406003e-03  1.22632229e-03  4.95300897e-04\n",
      "  1.82562282e-04  6.15242677e-05  1.89850991e-05  5.37054725e-06\n",
      "  1.39404081e-06  3.32294009e-07  7.27849573e-08  1.46578443e-08\n",
      "  2.71524714e-09  4.62841010e-10  8.47071119e-11]\n"
     ]
    },
    {
     "ename": "ValueError",
     "evalue": "too many values to unpack (expected 2)",
     "output_type": "error",
     "traceback": [
      "\u001b[0;31m---------------------------------------------------------------------------\u001b[0m",
      "\u001b[0;31mValueError\u001b[0m                                Traceback (most recent call last)",
      "Cell \u001b[0;32mIn[63], line 11\u001b[0m\n\u001b[1;32m      7\u001b[0m \u001b[38;5;28mprint\u001b[39m(spatial_differential(\u001b[38;5;241m0\u001b[39m, u_initial))\n\u001b[1;32m     10\u001b[0m \u001b[38;5;66;03m# Integrate the spatial differential over time using solve_ivp\u001b[39;00m\n\u001b[0;32m---> 11\u001b[0m sol \u001b[38;5;241m=\u001b[39m \u001b[43msolve_ivp\u001b[49m\u001b[43m(\u001b[49m\u001b[43mspatial_differential\u001b[49m\u001b[43m,\u001b[49m\u001b[43m \u001b[49m\u001b[43mt_span\u001b[49m\u001b[43m,\u001b[49m\u001b[43m \u001b[49m\u001b[43mu_initial\u001b[49m\u001b[43m)\u001b[49m\n\u001b[1;32m     13\u001b[0m \u001b[38;5;28mlen\u001b[39m(sol\u001b[38;5;241m.\u001b[39my)\n",
      "File \u001b[0;32m~/anaconda3/envs/MathCodeHub/lib/python3.10/site-packages/scipy/integrate/_ivp/ivp.py:524\u001b[0m, in \u001b[0;36msolve_ivp\u001b[0;34m(fun, t_span, y0, method, t_eval, dense_output, events, vectorized, args, **options)\u001b[0m\n\u001b[1;32m    519\u001b[0m \u001b[38;5;28;01mif\u001b[39;00m method \u001b[38;5;129;01mnot\u001b[39;00m \u001b[38;5;129;01min\u001b[39;00m METHODS \u001b[38;5;129;01mand\u001b[39;00m \u001b[38;5;129;01mnot\u001b[39;00m (\n\u001b[1;32m    520\u001b[0m         inspect\u001b[38;5;241m.\u001b[39misclass(method) \u001b[38;5;129;01mand\u001b[39;00m \u001b[38;5;28missubclass\u001b[39m(method, OdeSolver)):\n\u001b[1;32m    521\u001b[0m     \u001b[38;5;28;01mraise\u001b[39;00m \u001b[38;5;167;01mValueError\u001b[39;00m(\u001b[38;5;124m\"\u001b[39m\u001b[38;5;124m`method` must be one of \u001b[39m\u001b[38;5;132;01m{}\u001b[39;00m\u001b[38;5;124m or OdeSolver class.\u001b[39m\u001b[38;5;124m\"\u001b[39m\n\u001b[1;32m    522\u001b[0m                      \u001b[38;5;241m.\u001b[39mformat(METHODS))\n\u001b[0;32m--> 524\u001b[0m t0, tf \u001b[38;5;241m=\u001b[39m \u001b[38;5;28mmap\u001b[39m(\u001b[38;5;28mfloat\u001b[39m, t_span)\n\u001b[1;32m    526\u001b[0m \u001b[38;5;28;01mif\u001b[39;00m args \u001b[38;5;129;01mis\u001b[39;00m \u001b[38;5;129;01mnot\u001b[39;00m \u001b[38;5;28;01mNone\u001b[39;00m:\n\u001b[1;32m    527\u001b[0m     \u001b[38;5;66;03m# Wrap the user's fun (and jac, if given) in lambdas to hide the\u001b[39;00m\n\u001b[1;32m    528\u001b[0m     \u001b[38;5;66;03m# additional parameters.  Pass in the original fun as a keyword\u001b[39;00m\n\u001b[1;32m    529\u001b[0m     \u001b[38;5;66;03m# argument to keep it in the scope of the lambda.\u001b[39;00m\n\u001b[1;32m    530\u001b[0m     \u001b[38;5;28;01mtry\u001b[39;00m:\n",
      "\u001b[0;31mValueError\u001b[0m: too many values to unpack (expected 2)"
     ]
    }
   ],
   "source": [
    "t_span = np.linspace(0,10,100)  # Example time span from 0 to 10\n",
    "\n",
    "# Flatten u and v to be passed as a 1D array to solve_ivp\n",
    "u_initial = u.flatten()\n",
    "print(u_initial)\n",
    "\n",
    "print(spatial_differential(0, u_initial))\n",
    "\n",
    "\n",
    "# Integrate the spatial differential over time using solve_ivp\n",
    "sol = solve_ivp(spatial_differential, t_span, u_initial)\n",
    "\n",
    "len(sol.y)"
   ]
  },
  {
   "cell_type": "code",
   "execution_count": 48,
   "metadata": {},
   "outputs": [
    {
     "data": {
      "text/plain": [
       "array([ 0.        ,  0.12898708,  1.41885784,  3.84637675,  6.84144157,\n",
       "        7.73450238,  8.62756318,  9.56328552, 10.        ])"
      ]
     },
     "execution_count": 48,
     "metadata": {},
     "output_type": "execute_result"
    }
   ],
   "source": [
    "#Plot this\n",
    "import matplotlib.pyplot as plt\n",
    "#Plot for t=1, over space \n",
    "\n",
    "#Plt this over time\n",
    "sol.t"
   ]
  },
  {
   "cell_type": "code",
   "execution_count": 4,
   "metadata": {},
   "outputs": [],
   "source": [
    "def ode_func(t, y):\n",
    "    # Here, y is an array representing the state variables\n",
    "    # For example, if y = [x, y], the function returns [dx/dt, dy/dt]\n",
    "    dydt = np.zeros_like(y)\n",
    "    dydt[0] = 2 * y[0]  # Example ODE: dx/dt = 2x\n",
    "    dydt[1] = -0.5 * y[1]  # Example ODE: dy/dt = -0.5y\n",
    "    return dydt\n",
    "\n",
    "# Initial conditions\n",
    "y0 = [1.0, 2.0]  # Initial values of x and y\n",
    "\n",
    "# Time span\n",
    "t_span = (0, 10)  # Solve from t=0 to t=10\n",
    "\n",
    "# Solve the ODE\n",
    "sol = solve_ivp(ode_func, t_span, y0, t_eval=np.linspace(0, 10, 100))\n",
    "\n"
   ]
  },
  {
   "cell_type": "code",
   "execution_count": 59,
   "metadata": {},
   "outputs": [
    {
     "ename": "ValueError",
     "evalue": "`y0` must be 1-dimensional.",
     "output_type": "error",
     "traceback": [
      "\u001b[0;31m---------------------------------------------------------------------------\u001b[0m",
      "\u001b[0;31mValueError\u001b[0m                                Traceback (most recent call last)",
      "Cell \u001b[0;32mIn[59], line 36\u001b[0m\n\u001b[1;32m     33\u001b[0m t_span \u001b[38;5;241m=\u001b[39m (\u001b[38;5;241m0\u001b[39m, \u001b[38;5;241m10\u001b[39m)\n\u001b[1;32m     35\u001b[0m \u001b[38;5;66;03m# Solve the system of ODEs\u001b[39;00m\n\u001b[0;32m---> 36\u001b[0m sol \u001b[38;5;241m=\u001b[39m \u001b[43msolve_ivp\u001b[49m\u001b[43m(\u001b[49m\u001b[43mderiv_variables\u001b[49m\u001b[43m,\u001b[49m\u001b[43m \u001b[49m\u001b[43mt_span\u001b[49m\u001b[43m,\u001b[49m\u001b[43m \u001b[49m\u001b[43m[\u001b[49m\u001b[43mu\u001b[49m\u001b[43m,\u001b[49m\u001b[43m \u001b[49m\u001b[43mw\u001b[49m\u001b[43m]\u001b[49m\u001b[43m,\u001b[49m\u001b[43m \u001b[49m\u001b[43margs\u001b[49m\u001b[38;5;241;43m=\u001b[39;49m\u001b[43m(\u001b[49m\u001b[43mDU\u001b[49m\u001b[43m,\u001b[49m\u001b[43m \u001b[49m\u001b[43mDW\u001b[49m\u001b[43m)\u001b[49m\u001b[43m,\u001b[49m\u001b[43m \u001b[49m\u001b[43mt_eval\u001b[49m\u001b[38;5;241;43m=\u001b[39;49m\u001b[43mnp\u001b[49m\u001b[38;5;241;43m.\u001b[39;49m\u001b[43mlinspace\u001b[49m\u001b[43m(\u001b[49m\u001b[38;5;241;43m0\u001b[39;49m\u001b[43m,\u001b[49m\u001b[43m \u001b[49m\u001b[38;5;241;43m10\u001b[39;49m\u001b[43m,\u001b[49m\u001b[43m \u001b[49m\u001b[38;5;241;43m100\u001b[39;49m\u001b[43m)\u001b[49m\u001b[43m)\u001b[49m\n",
      "File \u001b[0;32m~/anaconda3/envs/MathCodeHub/lib/python3.10/site-packages/scipy/integrate/_ivp/ivp.py:568\u001b[0m, in \u001b[0;36msolve_ivp\u001b[0;34m(fun, t_span, y0, method, t_eval, dense_output, events, vectorized, args, **options)\u001b[0m\n\u001b[1;32m    565\u001b[0m \u001b[38;5;28;01mif\u001b[39;00m method \u001b[38;5;129;01min\u001b[39;00m METHODS:\n\u001b[1;32m    566\u001b[0m     method \u001b[38;5;241m=\u001b[39m METHODS[method]\n\u001b[0;32m--> 568\u001b[0m solver \u001b[38;5;241m=\u001b[39m \u001b[43mmethod\u001b[49m\u001b[43m(\u001b[49m\u001b[43mfun\u001b[49m\u001b[43m,\u001b[49m\u001b[43m \u001b[49m\u001b[43mt0\u001b[49m\u001b[43m,\u001b[49m\u001b[43m \u001b[49m\u001b[43my0\u001b[49m\u001b[43m,\u001b[49m\u001b[43m \u001b[49m\u001b[43mtf\u001b[49m\u001b[43m,\u001b[49m\u001b[43m \u001b[49m\u001b[43mvectorized\u001b[49m\u001b[38;5;241;43m=\u001b[39;49m\u001b[43mvectorized\u001b[49m\u001b[43m,\u001b[49m\u001b[43m \u001b[49m\u001b[38;5;241;43m*\u001b[39;49m\u001b[38;5;241;43m*\u001b[39;49m\u001b[43moptions\u001b[49m\u001b[43m)\u001b[49m\n\u001b[1;32m    570\u001b[0m \u001b[38;5;28;01mif\u001b[39;00m t_eval \u001b[38;5;129;01mis\u001b[39;00m \u001b[38;5;28;01mNone\u001b[39;00m:\n\u001b[1;32m    571\u001b[0m     ts \u001b[38;5;241m=\u001b[39m [t0]\n",
      "File \u001b[0;32m~/anaconda3/envs/MathCodeHub/lib/python3.10/site-packages/scipy/integrate/_ivp/rk.py:89\u001b[0m, in \u001b[0;36mRungeKutta.__init__\u001b[0;34m(self, fun, t0, y0, t_bound, max_step, rtol, atol, vectorized, first_step, **extraneous)\u001b[0m\n\u001b[1;32m     85\u001b[0m \u001b[38;5;28;01mdef\u001b[39;00m \u001b[38;5;21m__init__\u001b[39m(\u001b[38;5;28mself\u001b[39m, fun, t0, y0, t_bound, max_step\u001b[38;5;241m=\u001b[39mnp\u001b[38;5;241m.\u001b[39minf,\n\u001b[1;32m     86\u001b[0m              rtol\u001b[38;5;241m=\u001b[39m\u001b[38;5;241m1e-3\u001b[39m, atol\u001b[38;5;241m=\u001b[39m\u001b[38;5;241m1e-6\u001b[39m, vectorized\u001b[38;5;241m=\u001b[39m\u001b[38;5;28;01mFalse\u001b[39;00m,\n\u001b[1;32m     87\u001b[0m              first_step\u001b[38;5;241m=\u001b[39m\u001b[38;5;28;01mNone\u001b[39;00m, \u001b[38;5;241m*\u001b[39m\u001b[38;5;241m*\u001b[39mextraneous):\n\u001b[1;32m     88\u001b[0m     warn_extraneous(extraneous)\n\u001b[0;32m---> 89\u001b[0m     \u001b[38;5;28;43msuper\u001b[39;49m\u001b[43m(\u001b[49m\u001b[43m)\u001b[49m\u001b[38;5;241;43m.\u001b[39;49m\u001b[38;5;21;43m__init__\u001b[39;49m\u001b[43m(\u001b[49m\u001b[43mfun\u001b[49m\u001b[43m,\u001b[49m\u001b[43m \u001b[49m\u001b[43mt0\u001b[49m\u001b[43m,\u001b[49m\u001b[43m \u001b[49m\u001b[43my0\u001b[49m\u001b[43m,\u001b[49m\u001b[43m \u001b[49m\u001b[43mt_bound\u001b[49m\u001b[43m,\u001b[49m\u001b[43m \u001b[49m\u001b[43mvectorized\u001b[49m\u001b[43m,\u001b[49m\n\u001b[1;32m     90\u001b[0m \u001b[43m                     \u001b[49m\u001b[43msupport_complex\u001b[49m\u001b[38;5;241;43m=\u001b[39;49m\u001b[38;5;28;43;01mTrue\u001b[39;49;00m\u001b[43m)\u001b[49m\n\u001b[1;32m     91\u001b[0m     \u001b[38;5;28mself\u001b[39m\u001b[38;5;241m.\u001b[39my_old \u001b[38;5;241m=\u001b[39m \u001b[38;5;28;01mNone\u001b[39;00m\n\u001b[1;32m     92\u001b[0m     \u001b[38;5;28mself\u001b[39m\u001b[38;5;241m.\u001b[39mmax_step \u001b[38;5;241m=\u001b[39m validate_max_step(max_step)\n",
      "File \u001b[0;32m~/anaconda3/envs/MathCodeHub/lib/python3.10/site-packages/scipy/integrate/_ivp/base.py:135\u001b[0m, in \u001b[0;36mOdeSolver.__init__\u001b[0;34m(self, fun, t0, y0, t_bound, vectorized, support_complex)\u001b[0m\n\u001b[1;32m    133\u001b[0m \u001b[38;5;28mself\u001b[39m\u001b[38;5;241m.\u001b[39mt_old \u001b[38;5;241m=\u001b[39m \u001b[38;5;28;01mNone\u001b[39;00m\n\u001b[1;32m    134\u001b[0m \u001b[38;5;28mself\u001b[39m\u001b[38;5;241m.\u001b[39mt \u001b[38;5;241m=\u001b[39m t0\n\u001b[0;32m--> 135\u001b[0m \u001b[38;5;28mself\u001b[39m\u001b[38;5;241m.\u001b[39m_fun, \u001b[38;5;28mself\u001b[39m\u001b[38;5;241m.\u001b[39my \u001b[38;5;241m=\u001b[39m \u001b[43mcheck_arguments\u001b[49m\u001b[43m(\u001b[49m\u001b[43mfun\u001b[49m\u001b[43m,\u001b[49m\u001b[43m \u001b[49m\u001b[43my0\u001b[49m\u001b[43m,\u001b[49m\u001b[43m \u001b[49m\u001b[43msupport_complex\u001b[49m\u001b[43m)\u001b[49m\n\u001b[1;32m    136\u001b[0m \u001b[38;5;28mself\u001b[39m\u001b[38;5;241m.\u001b[39mt_bound \u001b[38;5;241m=\u001b[39m t_bound\n\u001b[1;32m    137\u001b[0m \u001b[38;5;28mself\u001b[39m\u001b[38;5;241m.\u001b[39mvectorized \u001b[38;5;241m=\u001b[39m vectorized\n",
      "File \u001b[0;32m~/anaconda3/envs/MathCodeHub/lib/python3.10/site-packages/scipy/integrate/_ivp/base.py:17\u001b[0m, in \u001b[0;36mcheck_arguments\u001b[0;34m(fun, y0, support_complex)\u001b[0m\n\u001b[1;32m     14\u001b[0m y0 \u001b[38;5;241m=\u001b[39m y0\u001b[38;5;241m.\u001b[39mastype(dtype, copy\u001b[38;5;241m=\u001b[39m\u001b[38;5;28;01mFalse\u001b[39;00m)\n\u001b[1;32m     16\u001b[0m \u001b[38;5;28;01mif\u001b[39;00m y0\u001b[38;5;241m.\u001b[39mndim \u001b[38;5;241m!=\u001b[39m \u001b[38;5;241m1\u001b[39m:\n\u001b[0;32m---> 17\u001b[0m     \u001b[38;5;28;01mraise\u001b[39;00m \u001b[38;5;167;01mValueError\u001b[39;00m(\u001b[38;5;124m\"\u001b[39m\u001b[38;5;124m`y0` must be 1-dimensional.\u001b[39m\u001b[38;5;124m\"\u001b[39m)\n\u001b[1;32m     19\u001b[0m \u001b[38;5;28;01mif\u001b[39;00m \u001b[38;5;129;01mnot\u001b[39;00m np\u001b[38;5;241m.\u001b[39misfinite(y0)\u001b[38;5;241m.\u001b[39mall():\n\u001b[1;32m     20\u001b[0m     \u001b[38;5;28;01mraise\u001b[39;00m \u001b[38;5;167;01mValueError\u001b[39;00m(\u001b[38;5;124m\"\u001b[39m\u001b[38;5;124mAll components of the initial state `y0` must be finite.\u001b[39m\u001b[38;5;124m\"\u001b[39m)\n",
      "\u001b[0;31mValueError\u001b[0m: `y0` must be 1-dimensional."
     ]
    }
   ],
   "source": [
    "import numpy as np\n",
    "from scipy.integrate import solve_ivp\n",
    "\n",
    "n = 10\n",
    "u = np.random.rand(n, 1)\n",
    "w = np.random.rand(n, 1)\n",
    "\n",
    "nu = 4\n",
    "dx = 1\n",
    "\n",
    "DU = np.zeros((n, n))\n",
    "np.fill_diagonal(DU, -2 * 1 ** -2)\n",
    "np.fill_diagonal(DU[1:], 1 ** -2)\n",
    "np.fill_diagonal(DU[:, 1:], 1 ** -2)\n",
    "DU[0, -1] = 1 ** -2\n",
    "DU[-1, 0] = 1 ** -2\n",
    "DU = DU * (dx ** -2)\n",
    "\n",
    "DW = np.zeros((n, n))\n",
    "np.fill_diagonal(DW, -1)\n",
    "np.fill_diagonal(DW[:, 1:], 1)\n",
    "DW[0, -1] = 1\n",
    "DW[-1, 0] = 1\n",
    "DW = DW * nu * (dx ** -1)\n",
    "\n",
    "def deriv_variables(t, variables, DU, DW):\n",
    "    u, w = variables\n",
    "    deriv_u = DU @ u\n",
    "    deriv_w = DW @ w\n",
    "    return [deriv_u, deriv_w]\n",
    "\n",
    "# Time span\n",
    "t_span = (0, 10)\n",
    "\n",
    "# Solve the system of ODEs\n",
    "sol = solve_ivp(deriv_variables, t_span, [u, w], args=(DU, DW), t_eval=np.linspace(0, 10, 100))\n",
    "\n",
    "# Now you can access the solution as sol.y[0] for u and sol.y[1] for w\n"
   ]
  },
  {
   "cell_type": "code",
   "execution_count": null,
   "metadata": {},
   "outputs": [],
   "source": [
    "\n",
    "n = 10\n",
    "\n",
    "DU = np.zeros((n,n))\n",
    "\n",
    "\n",
    "#DU[1:-1, 1:-1] = -2 * 1**-2\n",
    "\n",
    "# Off-diagonal elements\n",
    "np.fill_diagonal(DU,-2*1**-2)\n",
    "np.fill_diagonal(DU[1:], 1**-2)\n",
    "np.fill_diagonal(DU[:, 1:], 1**-2)\n",
    "\n",
    "# Boundary conditions\n",
    "'''\n",
    "DU[0, 0] = -2 * 1**-2\n",
    "DU[0, 1] = 1**-2\n",
    "#DU[1, 0] = 1**-2\n",
    "DU[-1, -2] = 1**-2\n",
    "DU[-1, -1] = -2 * 1**-2\n",
    "'''\n",
    "DU[0,-1] = 1**-2\n",
    "DU[-1,0] = 1**-2\n",
    "\n",
    "print(DU)\n",
    "DU.shape\n"
   ]
  },
  {
   "cell_type": "code",
   "execution_count": null,
   "metadata": {},
   "outputs": [],
   "source": [
    "from model_functions import *\n",
    "import matplotlib.pyplot as plt\n",
    "\n",
    "\n",
    "param = [2.2,0.45,182.5]\n",
    "model = model(0.01,0.1,100,100,param)\n",
    "\n",
    "\n",
    "u = np.ones(model.nx)\n",
    "w = np.ones(model.nx)\n",
    "\n",
    "#Set initial condition of u as some gaussian? with added noise\n",
    "\n",
    "\n",
    "u_next,w_next = model.u_w_next(u,w)\n",
    "\n",
    "#Plot u on domain \n",
    "\n",
    "plt.plot(u_next)\n"
   ]
  },
  {
   "cell_type": "code",
   "execution_count": null,
   "metadata": {},
   "outputs": [],
   "source": []
  }
 ],
 "metadata": {
  "kernelspec": {
   "display_name": "MathCodeHub",
   "language": "python",
   "name": "python3"
  },
  "language_info": {
   "codemirror_mode": {
    "name": "ipython",
    "version": 3
   },
   "file_extension": ".py",
   "mimetype": "text/x-python",
   "name": "python",
   "nbconvert_exporter": "python",
   "pygments_lexer": "ipython3",
   "version": "3.10.13"
  }
 },
 "nbformat": 4,
 "nbformat_minor": 2
}
